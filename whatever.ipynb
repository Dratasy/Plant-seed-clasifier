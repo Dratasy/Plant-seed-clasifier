{
 "cells": [
  {
   "cell_type": "code",
   "execution_count": null,
   "metadata": {},
   "outputs": [],
   "source": []
  },
  {
   "cell_type": "markdown",
   "metadata": {},
   "source": [
    "# Notebook content"
   ]
  },
  {
   "cell_type": "code",
   "execution_count": null,
   "metadata": {},
   "outputs": [],
   "source": [
    "trainer, model, test_result = train_model(\n",
    "    model_name= \"TLEfficientnet\",\n",
    "    datamodule= plantdata,\n",
    "    max_epochs=10,\n",
    "    model_hparams={\"num_classes\": 12},\n",
    "    optimizer_name=\"Adam\",\n",
    "    optimizer_hparams={\"lr\": 1e-3, \"weight_decay\": 1e-4},\n",
    "    metrics_name= [\"Accuracy\", \"Precision\", \"Recall\", \"F1Score\"],\n",
    "    metrics_hparams= [\n",
    "        {\"task\": \"multiclass\", \"num_classes\": 12, \"average\": \"macro\"},\n",
    "        {\"task\": \"multiclass\", \"num_classes\": 12, \"average\": \"macro\"},\n",
    "        {\"task\": \"multiclass\", \"num_classes\": 12, \"average\": \"macro\"},\n",
    "        {\"task\": \"multiclass\", \"num_classes\": 12, \"average\": \"macro\"}\n",
    "    ]\n",
    ")"
   ]
  },
  {
   "cell_type": "markdown",
   "metadata": {},
   "source": [
    "## Make prediction"
   ]
  },
  {
   "cell_type": "code",
   "execution_count": null,
   "metadata": {},
   "outputs": [],
   "source": [
    "preds = trainer.predict(model, plantdata)"
   ]
  },
  {
   "cell_type": "code",
   "execution_count": null,
   "metadata": {},
   "outputs": [],
   "source": [
    "classes = os.listdir(TRAIN_DATASET_PATH)\n",
    "idx_to_class_dict = {i: _class for i, _class in enumerate(classes)}\n",
    "species = np.vectorize(lambda idx: idx_to_class_dict[idx])(torch.cat(preds, 0))"
   ]
  },
  {
   "cell_type": "markdown",
   "metadata": {},
   "source": [
    "## Create submission file"
   ]
  },
  {
   "cell_type": "code",
   "execution_count": null,
   "metadata": {},
   "outputs": [],
   "source": [
    "import os \n",
    "import numpy as np\n",
    "import pandas as pd\n",
    "TEST_DATASET_PATH = os.environ.get(\"PATH_TEST_DATASETS\", \"/kaggle/input/plant-seedlings-classification/test\")"
   ]
  },
  {
   "cell_type": "code",
   "execution_count": null,
   "metadata": {},
   "outputs": [],
   "source": [
    "species = [\"Charklock\"] * len(os.listdir(TEST_DATASET_PATH))"
   ]
  },
  {
   "cell_type": "code",
   "execution_count": null,
   "metadata": {},
   "outputs": [],
   "source": [
    "submission = pd.DataFrame({\"file\": os.listdir(TEST_DATASET_PATH),\n",
    "                         \"species\": species})\n",
    "\n",
    "submission.to_csv(\"submission.csv\", index=False, header=True)"
   ]
  }
 ],
 "metadata": {
  "language_info": {
   "name": "python"
  }
 },
 "nbformat": 4,
 "nbformat_minor": 2
}
